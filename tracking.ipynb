{
 "cells": [
  {
   "cell_type": "code",
   "execution_count": null,
   "metadata": {},
   "outputs": [],
   "source": [
    "import numpy as np\n",
    "import skvideo.io\n",
    "from matplotlib import pyplot as plt\n",
    "from skimage.color import rgb2gray\n",
    "from skimage.measure import label\n",
    "from skimage.morphology import remove_small_objects, erosion, dilation, disk\n",
    "\n",
    "from trackbox import *"
   ]
  },
  {
   "cell_type": "markdown",
   "metadata": {},
   "source": [
    "### 0. Load the video\n",
    "* Change `filename = \"name_of_video.wmv\"` to the name of your own video.\n",
    "* Change `down_sample=1` to `n` to speed-up the video by `n` times.\n",
    "* Change `start` and `end` to the MM:SS format (e.g., `3:11`) to trim the video."
   ]
  },
  {
   "cell_type": "code",
   "execution_count": null,
   "metadata": {},
   "outputs": [],
   "source": [
    "filename = \"name_of_video.wmv\"\n",
    "video, video_gray = load_video(filename, down_sample=1, start='0:09', end='4:09')\n",
    "show_rand_imgs(video, 3)\n",
    "show_rand_imgs(video_gray, 3, 'gray')"
   ]
  },
  {
   "cell_type": "markdown",
   "metadata": {},
   "source": [
    "### 1. Find valid region in the field-of-view (FoV)"
   ]
  },
  {
   "cell_type": "code",
   "execution_count": null,
   "metadata": {
    "scrolled": false
   },
   "outputs": [],
   "source": [
    "valid_region = find_valid_region(video_gray.mean(0))"
   ]
  },
  {
   "cell_type": "markdown",
   "metadata": {},
   "source": [
    "### 2. Process and save the video"
   ]
  },
  {
   "cell_type": "code",
   "execution_count": null,
   "metadata": {},
   "outputs": [],
   "source": [
    "all_centers = []\n",
    "center_video = np.zeros(video_gray.shape, dtype=np.uint8)\n",
    "for i in list(range(video_gray.shape[0])):\n",
    "    center = segment_image(video_gray[i], show_imgs=False, valid_region=valid_region)\n",
    "    if len(center)==2:\n",
    "        center_video[i, center[0], center[1]] = 1\n",
    "        all_centers.append(center)\n",
    "save_video(video, video_gray, center_video)"
   ]
  },
  {
   "cell_type": "code",
   "execution_count": null,
   "metadata": {
    "scrolled": false
   },
   "outputs": [],
   "source": [
    "temp = np.ones(video_gray[50].shape, dtype=np.uint8)*255\n",
    "temp[0,0] = 0\n",
    "plt.imshow(temp, cmap='gray')\n",
    "for j in range(len(all_centers)-1):\n",
    "    # print(j, all_centers[j])\n",
    "    plt.plot([all_centers[j][1], \n",
    "              all_centers[j+1][1]], \n",
    "             [all_centers[j][0],\n",
    "              all_centers[j+1][0]], 'r', alpha=0.3, linewidth=2)"
   ]
  },
  {
   "cell_type": "code",
   "execution_count": null,
   "metadata": {},
   "outputs": [],
   "source": []
  }
 ],
 "metadata": {
  "kernelspec": {
   "display_name": "Python 3",
   "language": "python",
   "name": "python3"
  },
  "language_info": {
   "codemirror_mode": {
    "name": "ipython",
    "version": 3
   },
   "file_extension": ".py",
   "mimetype": "text/x-python",
   "name": "python",
   "nbconvert_exporter": "python",
   "pygments_lexer": "ipython3",
   "version": "3.7.7"
  }
 },
 "nbformat": 4,
 "nbformat_minor": 2
}
