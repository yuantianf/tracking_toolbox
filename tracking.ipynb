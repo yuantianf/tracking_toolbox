{
 "cells": [
  {
   "cell_type": "code",
   "execution_count": null,
   "metadata": {},
   "outputs": [],
   "source": [
    "import numpy as np\n",
    "import skvideo.io\n",
    "from matplotlib import pyplot as plt\n",
    "from skimage.color import rgb2gray\n",
    "from skimage.measure import label\n",
    "from skimage.morphology import remove_small_objects, erosion, dilation, disk"
   ]
  },
  {
   "cell_type": "markdown",
   "metadata": {},
   "source": [
    "### Utils for data I/O and visualization"
   ]
  },
  {
   "cell_type": "code",
   "execution_count": null,
   "metadata": {},
   "outputs": [],
   "source": [
    "def show_rand_imgs(data, num=5, cmap=None):\n",
    "    plt.figure(figsize=(20,5))\n",
    "    for i in range(num):\n",
    "        rand_idx = np.random.randint(0, data.shape[0])\n",
    "        plt.subplot('1%d%d' % (num, i+1))\n",
    "        plt.imshow(data[rand_idx], cmap=cmap)\n",
    "        plt.axis('off')\n",
    "    plt.show()\n",
    "    \n",
    "def load_video(filename, down_sample=3):\n",
    "    # load data\n",
    "    video = skvideo.io.vread(filename)\n",
    "    if down_sample!=1:\n",
    "        video = video[::down_sample]\n",
    "    video_gray = rgb2gray(video)\n",
    "    print(video.shape, video_gray.shape)\n",
    "    return video, video_gray\n",
    "\n",
    "def save_video(video, video_gray, center_video):\n",
    "    video = (video*255).astype(np.uint8)\n",
    "    dummy = np.zeros(video_gray.shape, dtype=np.uint8)\n",
    "    \n",
    "    struct = disk(3)[None,:,:]\n",
    "    center_video = dilation(center_video, struct)\n",
    "    center_video = (center_video*255).astype(np.uint8)\n",
    "    center_video = np.stack([center_video, dummy, dummy], 3)\n",
    "    \n",
    "    output_video = np.maximum(video, center_video)\n",
    "    print(output_video.shape)\n",
    "    skvideo.io.vwrite(\"outputvideo.mp4\", output_video)"
   ]
  },
  {
   "cell_type": "markdown",
   "metadata": {},
   "source": [
    "### Object segmentation functions"
   ]
  },
  {
   "cell_type": "code",
   "execution_count": null,
   "metadata": {},
   "outputs": [],
   "source": [
    "def find_valid_region(image, thres=64, size_thres=64, show_imgs=False):\n",
    "    image = (image-image.min())/(image.max()-image.min())\n",
    "    image = (image*255).astype(np.uint8)\n",
    "    binary = (image > thres).astype(np.uint8)\n",
    "    segmentation = label(binary)\n",
    "    segmentation = remove_small_objects(segmentation, size_thres)\n",
    "    indices, counts = np.unique(segmentation, return_counts=True)\n",
    "    # print(indices, counts)\n",
    "    \n",
    "    if show_imgs:\n",
    "        plt.imshow(image)\n",
    "        plt.show()\n",
    "        for i in np.unique(indices):\n",
    "            temp = (segmentation==i).astype(np.uint8)*255\n",
    "            plt.imshow(temp)\n",
    "            plt.title(i)\n",
    "            plt.show()\n",
    "            \n",
    "    return (segmentation==0).astype(np.uint8)\n",
    "    \n",
    "def segment_image(image, show_imgs=False, thres=64, size_thres=64, valid_region=None):\n",
    "    image = (image-image.min())/(image.max()-image.min())\n",
    "    image = (image*255).astype(np.uint8)\n",
    "    binary = (image > thres).astype(np.uint8)\n",
    "    binary = erosion(binary)\n",
    "    if valid_region is not None:\n",
    "        binary = binary * valid_region\n",
    "    \n",
    "    segmentation = label(binary)\n",
    "    if len(np.unique(segmentation)>1):\n",
    "        segmentation = remove_small_objects(segmentation, size_thres)\n",
    "            \n",
    "    indices, counts = np.unique(segmentation, return_counts=True)\n",
    "    pos = [i for i in range(len(counts)) if counts[i]>300 and counts[i]<1500]\n",
    "    # print(indices, counts, pos)\n",
    "    if len(pos)>=1: \n",
    "        target_idx = indices[pos[0]]\n",
    "        target = (segmentation==target_idx).astype(np.uint8)\n",
    "        target = erosion(target)\n",
    "        foreground_coord = np.where(target!=0)\n",
    "        center = [int(foreground_coord[0].astype(float).mean()),\n",
    "                  int(foreground_coord[1].astype(float).mean())]\n",
    "\n",
    "        if show_imgs:\n",
    "            plt.figure(figsize=(20,10))\n",
    "            plt.subplot(141)\n",
    "            plt.imshow(binary*255, cmap='gray')\n",
    "            plt.axis('off')\n",
    "            plt.subplot(142)\n",
    "            plt.imshow(segmentation, cmap='tab20c')\n",
    "            plt.axis('off')\n",
    "            plt.subplot(143)\n",
    "            plt.imshow(target, cmap='gray')\n",
    "            plt.axis('off')\n",
    "            plt.subplot(144)\n",
    "            plt.imshow(image, cmap='gray')\n",
    "            plt.scatter(center[1], center[0], c='r', s=20)\n",
    "            plt.axis('off')\n",
    "            plt.show()\n",
    "            \n",
    "    else:\n",
    "        center = []\n",
    "    \n",
    "    return center"
   ]
  },
  {
   "cell_type": "markdown",
   "metadata": {},
   "source": [
    "### 0. Load the video\n",
    "\n",
    "* Change `filename = \"name_of_video.wmv\"` to the name of your own video.\n",
    "* Change `down_sample=1` to n to speed-up the video by n times."
   ]
  },
  {
   "cell_type": "code",
   "execution_count": null,
   "metadata": {},
   "outputs": [],
   "source": [
    "filename = \"name_of_video.wmv\"\n",
    "video, video_gray = load_video(filename, down_sample=5)\n",
    "show_rand_imgs(video, 3)\n",
    "show_rand_imgs(video_gray, 3, 'gray')"
   ]
  },
  {
   "cell_type": "markdown",
   "metadata": {},
   "source": [
    "### 1. Find valid region in the field-of-view (FoV)"
   ]
  },
  {
   "cell_type": "code",
   "execution_count": null,
   "metadata": {
    "scrolled": false
   },
   "outputs": [],
   "source": [
    "valid_region = find_valid_region(video_gray.mean(0))"
   ]
  },
  {
   "cell_type": "markdown",
   "metadata": {},
   "source": [
    "### 2. Process and save the video"
   ]
  },
  {
   "cell_type": "code",
   "execution_count": null,
   "metadata": {},
   "outputs": [],
   "source": [
    "center_video = np.zeros(video_gray.shape, dtype=np.uint8)\n",
    "for i in list(range(video_gray.shape[0])):\n",
    "    center = segment_image(video_gray[i], show_imgs=False, valid_region=valid_region)\n",
    "    if len(center)==2:\n",
    "        center_video[i, center[0], center[1]] = 1\n",
    "save_video(video, video_gray, center_video)"
   ]
  }
 ],
 "metadata": {
  "kernelspec": {
   "display_name": "Python 3",
   "language": "python",
   "name": "python3"
  },
  "language_info": {
   "codemirror_mode": {
    "name": "ipython",
    "version": 3
   },
   "file_extension": ".py",
   "mimetype": "text/x-python",
   "name": "python",
   "nbconvert_exporter": "python",
   "pygments_lexer": "ipython3",
   "version": "3.7.7"
  }
 },
 "nbformat": 4,
 "nbformat_minor": 2
}
